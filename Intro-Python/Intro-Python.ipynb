{
 "cells": [
  {
   "cell_type": "markdown",
   "metadata": {},
   "source": [
    "# An introduction to Python\n",
    "\n",
    "    Joseph Salmon: joseph.salmon@umontpellier.fr\n",
    "    Benjamin Charlier: benjamin.charlier@umontpellier.fr\n",
    "\n",
    "## References\n",
    "\n",
    "Inspired from the work of:\n",
    "\n",
    "- A. Gramfort (alexandre.gramfort@inria.fr) http://alexandre.gramfort.net/\n",
    "- J. R. Johansson (robert@riken.jp) http://dml.riken.jp/~rob/\n",
    "- P. Fuchs et P. Poulain https://python.sdv.univ-paris-diderot.fr/\n"
   ]
  },
  {
   "cell_type": "markdown",
   "metadata": {},
   "source": [
    "## Shell, terminal and console\n",
    "\n",
    "The **shell** is the program which actually processes commands and returns output, e.g., Bash, zsh, etc... \n",
    "\n",
    "A **terminal** refers to a wrapper program which runs a shell.\n",
    "\n",
    "The **console** is a special sort of terminal (low level).\n",
    "\n",
    "https://superuser.com/questions/144666/what-is-the-difference-between-shell-console-and-terminal"
   ]
  },
  {
   "cell_type": "markdown",
   "metadata": {},
   "source": [
    "## Python\n",
    "\n",
    "Python 2.0 was released in 2000. It is deprecated and no more security updates are done!\n",
    "\n",
    "Python 3.0, a major, backwards-incompatible release, was released in 2008. \n",
    "\n",
    "https://en.wikipedia.org/wiki/History_of_Python"
   ]
  },
  {
   "cell_type": "markdown",
   "metadata": {},
   "source": [
    "## Structure your work\n",
    "\n",
    "Open a terminal. In a shell :\n",
    "\n",
    "```\n",
    "$ pwd\n",
    "$ mkdir -p HMMA238/Intro-Python\n",
    "$ cd HMMA238/Intro-Python\n",
    "```"
   ]
  },
  {
   "cell_type": "markdown",
   "metadata": {},
   "source": [
    "# How to launch a Python program\n",
    "\n",
    "* A python script has an extension in `.py`: \n",
    "\n",
    "* Every lines of a python script are parsed and executed excepted **comments** starting by the symbol **`#`**.\n",
    "\n",
    "* To launch a Python script from a terminal:\n",
    "\n",
    "```\n",
    "$ python my_script.py\n",
    "```\n",
    "\n",
    "**Example:**\n",
    "\n",
    "You have to download the file `hello-world.py` in the directory ```HMMA238/Intro-Python/scripts/```.\n",
    "It is available here: http://josephsalmon.eu/enseignement/Montpellier/HMMA238/hello-world.py\n",
    "\n",
    "```\n",
    "$ ls scripts/\n",
    "$ cat scripts/hello-world.py\n",
    "$ python ./scripts/hello-world.py\n",
    "```\n"
   ]
  },
  {
   "cell_type": "markdown",
   "metadata": {},
   "source": [
    "### Python interpreter (interactive mode)\n",
    "\n",
    "The Python interpretor can be launched with the command ``python``.\n",
    "\n",
    "<!-- <img src=\"files/images/python-screenshot.jpg\" width=\"600\"> -->\n",
    "<img src=\"https://raw.github.com/jrjohansson/scientific-python-lectures/master/images/python-screenshot.jpg\" width=\"600\">\n",
    "\n",
    "It allows to:\n",
    "\n",
    "* memorise previously launched commands with the arrows (up and down).\n",
    "* search in history with ctrl+R\n",
    "* auto-completion with Tab.\n",
    "* inline code edition"
   ]
  },
  {
   "cell_type": "markdown",
   "metadata": {},
   "source": [
    "### IPython\n",
    "\n",
    "IPython is a more refined interactive shell.\n",
    "\n",
    "<!-- <img src=\"files/images/ipython-screenshot.jpg\" width=\"600\"> -->\n",
    "<img src=\"https://raw.github.com/jrjohansson/scientific-python-lectures/master/images/ipython-screenshot.jpg\" width=\"600\">\n",
    "\n",
    "One can:\n",
    "\n",
    "* memorise previously launched commands with the arrows (up and down).\n",
    "* search in history with ctrl+R\n",
    "* auto-completion with Tab.\n",
    "* inline code edition\n",
    "* easy documentation access\n",
    "* debug\n",
    "\n",
    "Note: running ```ipython --pylab``` will help opening several images "
   ]
  },
  {
   "cell_type": "markdown",
   "metadata": {},
   "source": [
    "### Jupyter notebook\n",
    "\n",
    "[Jupyter notebook](<https://jupyter.org/) is similar to Mathematica, Matlab or Maple, in a web browser.\n",
    "\n",
    "<!-- <img src=\"files/images/ipython-notebook-screenshot.jpg\" width=\"800\"> -->\n",
    "<img src=\"https://jupyter.org/assets/jupyterpreview.png\" width=\"800\">\n",
    "\n",
    "Launch it with the command `jupyter notebook`\n",
    "\n",
    "in a directory where your notebooks are/will be stored (files with extension *.ipynb); or in a parent directory .\n",
    "\n",
    "For practical rooms at Université de Montpellier, cf.\n",
    "http://josephsalmon.eu/enseignement/Montpellier/HLMA310/IntroPython.pdf , page 13\n"
   ]
  },
  {
   "cell_type": "markdown",
   "metadata": {},
   "source": [
    "## Run shell command... from python\n",
    "\n",
    "It is possible to run a system command from a python interpreter. In a **jupyter notebook** or in an **ipython** instance, it suffice to start the line with a `!`:"
   ]
  },
  {
   "cell_type": "code",
   "execution_count": null,
   "metadata": {},
   "outputs": [],
   "source": [
    "# same output... but with by calling directly a shell\n",
    "! pwd"
   ]
  },
  {
   "cell_type": "code",
   "execution_count": null,
   "metadata": {},
   "outputs": [],
   "source": [
    "# download the file with a shell\n",
    "! wget http://josephsalmon.eu/enseignement/Montpellier/HMMA238/hello-world.py scripts/hello-world.py\n",
    "\n",
    "# Equivalent code in python\n",
    "# import urllib.request\n",
    "# url = 'http://josephsalmon.eu/enseignement/Montpellier/HMMA238/hello-world.py'\n",
    "# urllib.request.urlretrieve(url, 'script/hello-world.py')"
   ]
  },
  {
   "cell_type": "code",
   "execution_count": null,
   "metadata": {},
   "outputs": [],
   "source": [
    "! ls scripts/hello-world.py"
   ]
  },
  {
   "cell_type": "code",
   "execution_count": null,
   "metadata": {},
   "outputs": [],
   "source": [
    "! cat scripts/hello-world.py"
   ]
  },
  {
   "cell_type": "code",
   "execution_count": null,
   "metadata": {},
   "outputs": [],
   "source": [
    "! python ./scripts/hello-world.py"
   ]
  },
  {
   "cell_type": "markdown",
   "metadata": {},
   "source": [
    " Dans un notebook, on peut aussi simplement lancer la fonction avec la commande `run`"
   ]
  },
  {
   "cell_type": "code",
   "execution_count": null,
   "metadata": {},
   "outputs": [],
   "source": [
    "run ./scripts/hello-world.py"
   ]
  },
  {
   "cell_type": "markdown",
   "metadata": {},
   "source": [
    "## Numbers"
   ]
  },
  {
   "cell_type": "code",
   "execution_count": null,
   "metadata": {},
   "outputs": [],
   "source": [
    "2 + 2 + 1 # a comment "
   ]
  },
  {
   "cell_type": "code",
   "execution_count": null,
   "metadata": {},
   "outputs": [],
   "source": [
    "a = 4\n",
    "print(a)\n",
    "print(type(a))"
   ]
  },
  {
   "cell_type": "markdown",
   "metadata": {},
   "source": [
    "Variable names can contain letters `a-z`, `A-Z`, numbers `0-9`and a few special characters such as `_` they **ALWAYS** must start by a letter. \n",
    "\n",
    "By convention, variable names are usually lowercase (rem: an uppercase letter is used for Class names only).\n",
    "\n",
    "Some variables names are forbidden since they are already defined by Python:\n",
    "\n",
    "    and, as, assert, break, class, continue, def, del, elif, else, except, \n",
    "    exec, finally, for, from, global, if, import, in, is, lambda, not, or,\n",
    "    pass, print, raise, return, try, while, with, yield"
   ]
  },
  {
   "cell_type": "code",
   "execution_count": null,
   "metadata": {},
   "outputs": [],
   "source": [
    "int a = 1;  # code C ... leads to an error in Python"
   ]
  },
  {
   "cell_type": "code",
   "execution_count": null,
   "metadata": {},
   "outputs": [],
   "source": [
    "c = 2.1  # float (floating point number)\n",
    "print(type(c))"
   ]
  },
  {
   "cell_type": "code",
   "execution_count": null,
   "metadata": {},
   "outputs": [],
   "source": [
    "a = 1.5 + 1j  # complex number\n",
    "print(a.real)\n",
    "print(a.imag)\n",
    "print(1j)\n",
    "print(a)\n",
    "print(a + 1j)\n",
    "print(1j * 1j)\n",
    "print(type(a))"
   ]
  },
  {
   "cell_type": "code",
   "execution_count": null,
   "metadata": {},
   "outputs": [],
   "source": [
    "type(1j * 1j)"
   ]
  },
  {
   "cell_type": "code",
   "execution_count": null,
   "metadata": {},
   "outputs": [],
   "source": [
    "3 < 4  # bool"
   ]
  },
  {
   "cell_type": "code",
   "execution_count": null,
   "metadata": {},
   "outputs": [],
   "source": [
    "1 < 3 < 5"
   ]
  },
  {
   "cell_type": "code",
   "execution_count": null,
   "metadata": {},
   "outputs": [],
   "source": [
    "3 < 2"
   ]
  },
  {
   "cell_type": "code",
   "execution_count": null,
   "metadata": {},
   "outputs": [],
   "source": [
    "test = (3 > 4)\n",
    "print(test)"
   ]
  },
  {
   "cell_type": "code",
   "execution_count": null,
   "metadata": {},
   "outputs": [],
   "source": [
    "type(test)"
   ]
  },
  {
   "cell_type": "code",
   "execution_count": null,
   "metadata": {},
   "outputs": [],
   "source": [
    "print(7 * 3.)  # int x float -> float\n",
    "print(type(7 * 3.))"
   ]
  },
  {
   "cell_type": "code",
   "execution_count": null,
   "metadata": {},
   "outputs": [],
   "source": [
    "2 ** 10  # exponant, do not use `^` in Python"
   ]
  },
  {
   "cell_type": "code",
   "execution_count": null,
   "metadata": {},
   "outputs": [],
   "source": [
    "8 % 3  # reminder in the Euclidean division (modulo)"
   ]
  },
  {
   "cell_type": "markdown",
   "metadata": {},
   "source": [
    "Attention !"
   ]
  },
  {
   "cell_type": "code",
   "execution_count": null,
   "metadata": {},
   "outputs": [],
   "source": [
    "3 / 2  # float by default"
   ]
  },
  {
   "cell_type": "code",
   "execution_count": null,
   "metadata": {},
   "outputs": [],
   "source": [
    "3 // 2"
   ]
  },
  {
   "cell_type": "markdown",
   "metadata": {},
   "source": [
    "## The standard libraries and its packages\n",
    "\n",
    " * Python functions are organized by *modules*\n",
    " * Python Standard Library : package collection  to access standard functions (low level), such as call the OS (operating system), file management, string management, web interface, etc.\n",
    "\n",
    "### References\n",
    " \n",
    " * The Python Language Reference: https://docs.python.org/3/reference/index.html\n",
    " * The Python Standard Library: http://docs.python.org/3/library/\n",
    "\n",
    "### Using packages\n",
    "\n",
    "* A package must be *imported* before it can be used:"
   ]
  },
  {
   "cell_type": "code",
   "execution_count": null,
   "metadata": {},
   "outputs": [],
   "source": [
    "import math"
   ]
  },
  {
   "cell_type": "markdown",
   "metadata": {},
   "source": [
    " * The `math` package can now be used :"
   ]
  },
  {
   "cell_type": "code",
   "execution_count": null,
   "metadata": {},
   "outputs": [],
   "source": [
    "x = math.cos(2 * math.pi)\n",
    "print(x)"
   ]
  },
  {
   "cell_type": "markdown",
   "metadata": {},
   "source": [
    "Another way to use a package is to import only the functions that you need:"
   ]
  },
  {
   "cell_type": "code",
   "execution_count": null,
   "metadata": {},
   "outputs": [],
   "source": [
    "from math import cos, pi\n",
    "x = cos(2 * pi)\n",
    "print(x)"
   ]
  },
  {
   "cell_type": "markdown",
   "metadata": {},
   "source": [
    "**WARNING**: do not load all functions from a package, there is a risk that you redefine some existing functions without noticing."
   ]
  },
  {
   "cell_type": "code",
   "execution_count": null,
   "metadata": {},
   "outputs": [],
   "source": [
    "from math import *  # NEVER DO THAT, EVER!!!\n",
    "tanh(1)"
   ]
  },
  {
   "cell_type": "markdown",
   "metadata": {},
   "source": [
    "Popular method: use a standard nickname for a package (we will see classical ones like: `np, pd, sns, plt, skl,` etc.)"
   ]
  },
  {
   "cell_type": "code",
   "execution_count": null,
   "metadata": {},
   "outputs": [],
   "source": [
    "import math as m\n",
    "print(m.cos(1.))"
   ]
  },
  {
   "cell_type": "markdown",
   "metadata": {},
   "source": [
    "### Inspecting a package\n",
    "\n",
    " * Once a package is imported it is possible to list the functions available with `dir`:"
   ]
  },
  {
   "cell_type": "code",
   "execution_count": null,
   "metadata": {},
   "outputs": [],
   "source": [
    "import math\n",
    "print(dir(math))"
   ]
  },
  {
   "cell_type": "markdown",
   "metadata": {},
   "source": [
    "* To access the documentation use `help`"
   ]
  },
  {
   "cell_type": "code",
   "execution_count": null,
   "metadata": {},
   "outputs": [],
   "source": [
    "help(math.log)"
   ]
  },
  {
   "cell_type": "markdown",
   "metadata": {},
   "source": [
    " * In IPython or Jupyter one can also use:"
   ]
  },
  {
   "cell_type": "code",
   "execution_count": null,
   "metadata": {},
   "outputs": [],
   "source": [
    "math.log?"
   ]
  },
  {
   "cell_type": "code",
   "execution_count": null,
   "metadata": {},
   "outputs": [],
   "source": [
    "math.log(10) "
   ]
  },
  {
   "cell_type": "code",
   "execution_count": null,
   "metadata": {},
   "outputs": [],
   "source": [
    "math.log(10, 2)"
   ]
  },
  {
   "cell_type": "code",
   "execution_count": null,
   "metadata": {},
   "outputs": [],
   "source": [
    "math.ceil(2.5)"
   ]
  },
  {
   "cell_type": "markdown",
   "metadata": {},
   "source": [
    "* `help` can be called for modules :"
   ]
  },
  {
   "cell_type": "code",
   "execution_count": null,
   "metadata": {},
   "outputs": [],
   "source": [
    "help(math)"
   ]
  },
  {
   "cell_type": "markdown",
   "metadata": {},
   "source": [
    " * Useful modules of common libraries Modules : `os`, `sys`, `math`, etc.\n",
    "\n",
    " * For an exhaustive list see:  http://docs.python.org/3/library/"
   ]
  },
  {
   "cell_type": "markdown",
   "metadata": {},
   "source": [
    "### <font color='red'> EXERCISE : log </font>\n",
    "Write a code that computes the first power of 2 above a given number $n$."
   ]
  },
  {
   "cell_type": "code",
   "execution_count": null,
   "metadata": {},
   "outputs": [],
   "source": [
    "n = 12345\n",
    "# XXX "
   ]
  },
  {
   "cell_type": "markdown",
   "metadata": {},
   "source": [
    "### Fractions"
   ]
  },
  {
   "cell_type": "code",
   "execution_count": null,
   "metadata": {},
   "outputs": [],
   "source": [
    "import fractions\n",
    "a = fractions.Fraction(2, 3)\n",
    "b = fractions.Fraction(1, 2)\n",
    "print(a + b)"
   ]
  },
  {
   "cell_type": "markdown",
   "metadata": {},
   "source": [
    "* We can use `isinstance` to test type of variables :"
   ]
  },
  {
   "cell_type": "code",
   "execution_count": null,
   "metadata": {},
   "outputs": [],
   "source": [
    "print(type(a))\n",
    "print(isinstance(a, fractions.Fraction))"
   ]
  },
  {
   "cell_type": "code",
   "execution_count": null,
   "metadata": {},
   "outputs": [],
   "source": [
    "a = fractions.Fraction(1, 1)\n",
    "print(isinstance(a, int))"
   ]
  },
  {
   "cell_type": "markdown",
   "metadata": {},
   "source": [
    "### Type casting (type conversion)"
   ]
  },
  {
   "cell_type": "code",
   "execution_count": null,
   "metadata": {},
   "outputs": [],
   "source": [
    "x = 1.5\n",
    "print(x, type(x))"
   ]
  },
  {
   "cell_type": "code",
   "execution_count": null,
   "metadata": {},
   "outputs": [],
   "source": [
    "x = int(x)\n",
    "print(x, type(x))"
   ]
  },
  {
   "cell_type": "code",
   "execution_count": null,
   "metadata": {},
   "outputs": [],
   "source": [
    "z = complex(x)\n",
    "print(z, type(z))"
   ]
  },
  {
   "cell_type": "markdown",
   "metadata": {},
   "source": [
    "**Warning:** however:"
   ]
  },
  {
   "cell_type": "code",
   "execution_count": null,
   "metadata": {},
   "outputs": [],
   "source": [
    "x = float(z)\n",
    "print(x, type(x))"
   ]
  },
  {
   "cell_type": "markdown",
   "metadata": {},
   "source": [
    "## Operateurs et comparaisons"
   ]
  },
  {
   "cell_type": "code",
   "execution_count": null,
   "metadata": {},
   "outputs": [],
   "source": [
    "1 + 2, 1 - 2, 1 * 2, 1 / 2  # + - / * sur des entiers"
   ]
  },
  {
   "cell_type": "code",
   "execution_count": null,
   "metadata": {},
   "outputs": [],
   "source": [
    "1.0 + 2.0, 1.0 - 2.0, 1.0 * 2.0, 1.0 / 2.0  # + - / * sur des flottants"
   ]
  },
  {
   "cell_type": "code",
   "execution_count": null,
   "metadata": {},
   "outputs": [],
   "source": [
    "# Division entière\n",
    "3.0 // 2.0"
   ]
  },
  {
   "cell_type": "code",
   "execution_count": null,
   "metadata": {},
   "outputs": [],
   "source": [
    "# Attention ** et pas ^ comme dans d'autres langages\n",
    "2 ** 2"
   ]
  },
  {
   "cell_type": "markdown",
   "metadata": {},
   "source": [
    "* Opérations booléennes en anglais `and`, `not`, `or`. "
   ]
  },
  {
   "cell_type": "code",
   "execution_count": null,
   "metadata": {},
   "outputs": [],
   "source": [
    "True and False"
   ]
  },
  {
   "cell_type": "code",
   "execution_count": null,
   "metadata": {},
   "outputs": [],
   "source": [
    "not False"
   ]
  },
  {
   "cell_type": "code",
   "execution_count": null,
   "metadata": {},
   "outputs": [],
   "source": [
    "True or False"
   ]
  },
  {
   "cell_type": "markdown",
   "metadata": {},
   "source": [
    "* Comparisons `>`, `<`, `>=` (plus grand ou égal), `<=` (inférieur ou égal), `==` equalité, `is` identique."
   ]
  },
  {
   "cell_type": "code",
   "execution_count": null,
   "metadata": {},
   "outputs": [],
   "source": [
    "2 > 1, 2 < 1"
   ]
  },
  {
   "cell_type": "code",
   "execution_count": null,
   "metadata": {},
   "outputs": [],
   "source": [
    "2 > 2, 2 < 2"
   ]
  },
  {
   "cell_type": "code",
   "execution_count": null,
   "metadata": {},
   "outputs": [],
   "source": [
    "2 >= 2, 2 <= 2"
   ]
  },
  {
   "cell_type": "code",
   "execution_count": null,
   "metadata": {},
   "outputs": [],
   "source": [
    "2 != 3  # différent de"
   ]
  },
  {
   "cell_type": "code",
   "execution_count": null,
   "metadata": {},
   "outputs": [],
   "source": [
    "not 2 == 3  # négation"
   ]
  },
  {
   "cell_type": "markdown",
   "metadata": {},
   "source": [
    "## Conteneurs: Chaînes de caractères, listes et dictionnaires\n",
    "\n",
    "### Chaines de caractères (Strings)"
   ]
  },
  {
   "cell_type": "code",
   "execution_count": null,
   "metadata": {},
   "outputs": [],
   "source": [
    "s = 'Ciao Ciao!'\n",
    "# or use \" \"\n",
    "s1 = \"Ciao Ciao!\"\n",
    "# or use \"\"\" \"\"\"\n",
    "s2 = \"\"\"Ciao Ciao\"\"\"\n",
    "print(s, s1, s2)\n",
    "print(type(s))"
   ]
  },
  {
   "cell_type": "markdown",
   "metadata": {},
   "source": [
    "### <font color='red'>EXERCISE : quotes and double quotes</font>\n",
    "Create the following string: \"Hello! how's it going?\""
   ]
  },
  {
   "cell_type": "code",
   "execution_count": null,
   "metadata": {},
   "outputs": [],
   "source": [
    "# XXX"
   ]
  },
  {
   "cell_type": "markdown",
   "metadata": {},
   "source": [
    "**Attention:** les indices commencent à 0!\n",
    "\n",
    "On peut extraire une sous-chaine avec la syntaxe `[start:stop]`, qui extrait les caractères entre `start`  (**inclus**) et `stop` (**exclu**) :"
   ]
  },
  {
   "cell_type": "code",
   "execution_count": null,
   "metadata": {},
   "outputs": [],
   "source": [
    "s[0]  # premier élément"
   ]
  },
  {
   "cell_type": "code",
   "execution_count": null,
   "metadata": {},
   "outputs": [],
   "source": [
    "s[-1]  # dernier élément"
   ]
  },
  {
   "cell_type": "code",
   "execution_count": null,
   "metadata": {},
   "outputs": [],
   "source": [
    "s[1:5]"
   ]
  },
  {
   "cell_type": "code",
   "execution_count": null,
   "metadata": {},
   "outputs": [],
   "source": [
    "start, stop = 1, 5\n",
    "print(s[start:stop])\n",
    "print(len(s[start:stop]))"
   ]
  },
  {
   "cell_type": "code",
   "execution_count": null,
   "metadata": {},
   "outputs": [],
   "source": [
    "print(stop - start)"
   ]
  },
  {
   "cell_type": "code",
   "execution_count": null,
   "metadata": {},
   "outputs": [],
   "source": [
    "print(start)\n",
    "print(stop)"
   ]
  },
  {
   "cell_type": "markdown",
   "metadata": {},
   "source": [
    "Pour la curiosité: les chaînes de caractères sont \"compliquées\", surtout pour les langues, comme le français, qui ont des accents, cédilles, etc.\n",
    "\n",
    "Voir: unicode et utf8, etc. http://sametmax.com/lencoding-en-python-une-bonne-fois-pour-toute/ pour"
   ]
  },
  {
   "cell_type": "markdown",
   "metadata": {},
   "source": [
    "On peut omettre `start` ou `stop`. Dans ce cas les valeurs par défaut sont respectivement 0 et la fin de la chaine."
   ]
  },
  {
   "cell_type": "code",
   "execution_count": null,
   "metadata": {},
   "outputs": [],
   "source": [
    "s[:5]  # 5 premières valeurs"
   ]
  },
  {
   "cell_type": "code",
   "execution_count": null,
   "metadata": {},
   "outputs": [],
   "source": [
    "s[2:]  # de l'entrée d'indice 6 à la fin"
   ]
  },
  {
   "cell_type": "code",
   "execution_count": null,
   "metadata": {},
   "outputs": [],
   "source": [
    "print(len(s[5:]))  # en anglais length = longeur\n",
    "print(len(s) - 5)"
   ]
  },
  {
   "cell_type": "code",
   "execution_count": null,
   "metadata": {},
   "outputs": [],
   "source": [
    "s[-3:]  # les 6 derniers"
   ]
  },
  {
   "cell_type": "markdown",
   "metadata": {},
   "source": [
    "Il est aussi possible de définir le `step` (pas d'avancement) avec la syntaxe `[start:stop:step]` (la valeur par défaut de `step` est 1):"
   ]
  },
  {
   "cell_type": "code",
   "execution_count": null,
   "metadata": {},
   "outputs": [],
   "source": [
    "print(s[1::2])\n",
    "print(s[0::2])"
   ]
  },
  {
   "cell_type": "markdown",
   "metadata": {},
   "source": [
    "Cette technique est appelée *slicing*. Pour en savoir plus: https://docs.python.org/3/library/functions.html?highlight=slice#slice et https://docs.python.org/3/library/string.html"
   ]
  },
  {
   "cell_type": "markdown",
   "metadata": {},
   "source": [
    "### <font color='red'>EXERCISE : slicing and strings</font>\n",
    "A partir des lettres de l'alphabet, générer par une operation de slicing la chaîne de charactère *cfilorux*"
   ]
  },
  {
   "cell_type": "code",
   "execution_count": null,
   "metadata": {},
   "outputs": [],
   "source": [
    "import string\n",
    "alphabet = string.ascii_lowercase\n",
    "print(alphabet)"
   ]
  },
  {
   "cell_type": "code",
   "execution_count": null,
   "metadata": {},
   "outputs": [],
   "source": [
    "# XXX"
   ]
  },
  {
   "cell_type": "markdown",
   "metadata": {},
   "source": [
    "Certains opérateurs ont été surchargés pour manipuler des strings."
   ]
  },
  {
   "cell_type": "code",
   "execution_count": null,
   "metadata": {},
   "outputs": [],
   "source": [
    "print(\"aldkfdf\" < 'alkfdg') # ordre lexicographique\n",
    "print(\"zz\" + 'z')\n",
    "print(\"z\" == 'z')"
   ]
  },
  {
   "cell_type": "markdown",
   "metadata": {},
   "source": [
    "#### Mise en forme de chaînes de caractères"
   ]
  },
  {
   "cell_type": "code",
   "execution_count": null,
   "metadata": {},
   "outputs": [],
   "source": [
    "print(\"str1\", \"str2\", \"str3\")  # print ajoute des espaces entre les chaînes"
   ]
  },
  {
   "cell_type": "code",
   "execution_count": null,
   "metadata": {},
   "outputs": [],
   "source": [
    "print(\"str1\", 1.0, False, -1j)  # print convertit toutes les variables en chaînes"
   ]
  },
  {
   "cell_type": "code",
   "execution_count": null,
   "metadata": {},
   "outputs": [],
   "source": [
    "print(\"str1\" + \"str2\" + \"str3\") # pour concatener (\"coller ensemble\") utiliser le symbole +"
   ]
  },
  {
   "cell_type": "code",
   "execution_count": null,
   "metadata": {},
   "outputs": [],
   "source": [
    "print(\"str1\" * 3)  # répétition"
   ]
  },
  {
   "cell_type": "markdown",
   "metadata": {},
   "source": [
    "Les chaînes de caractères sont en fait des classes qui possède des méthodes permettant de les formater."
   ]
  },
  {
   "cell_type": "code",
   "execution_count": null,
   "metadata": {},
   "outputs": [],
   "source": [
    "print(\"abc,def,ghi\".replace(',',' '))"
   ]
  },
  {
   "cell_type": "code",
   "execution_count": null,
   "metadata": {},
   "outputs": [],
   "source": [
    "print(\"ssEslk\".upper())\n",
    "print(\"kljlj, dsfsdf\".capitalize())\n",
    "print(\":\".join(\"Python\"))\n",
    "print(\":\".join([\"Pyt\", \"hon\"]))          # take a list \n",
    "print(\"guru99 career guru99\".split(' ')) # return a list"
   ]
  },
  {
   "cell_type": "markdown",
   "metadata": {},
   "source": [
    "**Important note:** In Python, Strings are immutable. Consider the following code:"
   ]
  },
  {
   "cell_type": "code",
   "execution_count": null,
   "metadata": {},
   "outputs": [],
   "source": [
    "x = \"Guru99\"\n",
    "y = x.replace(\"Guru99\",\"Python\")\n",
    "print(x)\n",
    "print(y)"
   ]
  },
  {
   "cell_type": "markdown",
   "metadata": {},
   "source": [
    "This is because `x.replace(\"Guru99\", \"Python\")` returns a copy of X with replacements made.You will need to use the following code to observe changes.\n"
   ]
  },
  {
   "cell_type": "code",
   "execution_count": null,
   "metadata": {},
   "outputs": [],
   "source": [
    "x = \"Guru99\"\n",
    "x = x.replace(\"Guru99\",\"Python\")\n",
    "print(x)"
   ]
  },
  {
   "cell_type": "markdown",
   "metadata": {},
   "source": [
    "### Affichage des flottants : https://docs.python.org/3/tutorial/floatingpoint.html"
   ]
  },
  {
   "cell_type": "code",
   "execution_count": null,
   "metadata": {},
   "outputs": [],
   "source": [
    "a = 1.0000000002\n",
    "b = 1.00031e2\n",
    "c= 136869689\n",
    "print(\"val = {}\".format(a))\n",
    "print(\"val = {}\".format(b))\n",
    "\n",
    "print(\"val = {0:1.5e}\".format(a))\n",
    "print(\"val = {0:1.5e}\".format(b))\n",
    "\n",
    "print(\"val = {0:1.15f}\".format(a))\n",
    "\n",
    "print(\"val = {:3d}\".format(c))\n",
    "print(\"val = {:13d}\".format(c))\n",
    "print(\"val = {:6d}\".format(c))"
   ]
  },
  {
   "cell_type": "markdown",
   "metadata": {},
   "source": [
    "### <font color='red'> EXERCISE : $e$ digits</font>\n",
    "Print the real number $e=\\exp(1)$ with 1, 10, 20 and 50 digits (one number by line).  "
   ]
  },
  {
   "cell_type": "code",
   "execution_count": null,
   "metadata": {},
   "outputs": [],
   "source": [
    "# XXX"
   ]
  },
  {
   "cell_type": "markdown",
   "metadata": {},
   "source": [
    "More info on the formats:\n",
    "\n",
    "- https://mkaz.blog/code/python-string-format-cookbook/\n",
    "- https://docs.python.org/3/library/string.html"
   ]
  },
  {
   "cell_type": "code",
   "execution_count": null,
   "metadata": {},
   "outputs": [],
   "source": [
    "# More advance\n",
    "print(\"val = {0:1.15f},val2={1:1.15f}\".format(a, b))"
   ]
  },
  {
   "cell_type": "code",
   "execution_count": null,
   "metadata": {},
   "outputs": [],
   "source": [
    "s = \"Le nombre {0:s} est égal à {1:1.111}\"\n",
    "print(s.format(\"pi\", math.pi))"
   ]
  },
  {
   "cell_type": "code",
   "execution_count": null,
   "metadata": {},
   "outputs": [],
   "source": [
    "# Accessing arguments by name:\n",
    "'Coordinates: {latitude}, {longitude}'.format(latitude='37.24N', longitude='-115.81W')\n",
    "'Coordinates: 37.24N, -115.81W'"
   ]
  },
  {
   "cell_type": "markdown",
   "metadata": {},
   "source": [
    "### Lists\n",
    "\n",
    "Les listes sont très similaires aux chaînes de caractères sauf que les éléments peuvent être de n'importe quel type.\n",
    "\n",
    "Une syntaxe possible pour créer des listes est `[..., ..., ...]` "
   ]
  },
  {
   "cell_type": "code",
   "execution_count": null,
   "metadata": {},
   "outputs": [],
   "source": [
    "l = [1, 2, 3, 4]\n",
    "print(type(l))\n",
    "print(l)"
   ]
  },
  {
   "cell_type": "markdown",
   "metadata": {},
   "source": [
    "Exemples de slicing:"
   ]
  },
  {
   "cell_type": "code",
   "execution_count": null,
   "metadata": {},
   "outputs": [],
   "source": [
    "print(l[1:3])\n",
    "print(l[::2])"
   ]
  },
  {
   "cell_type": "markdown",
   "metadata": {},
   "source": [
    "**WARNING:** On commence à indexer à 0!"
   ]
  },
  {
   "cell_type": "code",
   "execution_count": null,
   "metadata": {},
   "outputs": [],
   "source": [
    "l[0]"
   ]
  },
  {
   "cell_type": "markdown",
   "metadata": {},
   "source": [
    "**WARNING:** au passage par adresse!"
   ]
  },
  {
   "cell_type": "code",
   "execution_count": null,
   "metadata": {},
   "outputs": [],
   "source": [
    "print(\"l est :\", l)\n",
    "k = l       # k est un pointeur sur les données de l, ie l et k partage le même espace mémoire \n",
    "k += [14]   \n",
    "print(\"l a été modifié :\", l)"
   ]
  },
  {
   "cell_type": "code",
   "execution_count": null,
   "metadata": {},
   "outputs": [],
   "source": [
    "k = l.copy()  # force la copie, l et k pointe sur des adresses mémoire différente\n",
    "k[0] = 15\n",
    "print(l)\n",
    "print(k)"
   ]
  },
  {
   "cell_type": "markdown",
   "metadata": {},
   "source": [
    "On peut mélanger les types:"
   ]
  },
  {
   "cell_type": "code",
   "execution_count": null,
   "metadata": {},
   "outputs": [],
   "source": [
    "l = [1, 'a', 1.0, 1-1j]\n",
    "print(l)"
   ]
  },
  {
   "cell_type": "markdown",
   "metadata": {},
   "source": [
    "On peut faire des listes de listes (par exemple pour décrire un arbre...)"
   ]
  },
  {
   "cell_type": "code",
   "execution_count": null,
   "metadata": {},
   "outputs": [],
   "source": [
    "list_of_list = [1, [2, [3, [4, [5]]]]]\n",
    "list_of_list"
   ]
  },
  {
   "cell_type": "code",
   "execution_count": null,
   "metadata": {},
   "outputs": [],
   "source": [
    "arbre = [1, [2, 3]]\n",
    "print(arbre)"
   ]
  },
  {
   "cell_type": "markdown",
   "metadata": {},
   "source": [
    "La fonction `range` pour générer une liste d'entiers:"
   ]
  },
  {
   "cell_type": "code",
   "execution_count": null,
   "metadata": {},
   "outputs": [],
   "source": [
    "start, stop, step = 10, 30, 2\n",
    "print(range(start, stop, step))\n",
    "print(range(10, 30, 2))\n",
    "print(list(range(10, 30, 2)))"
   ]
  },
  {
   "cell_type": "markdown",
   "metadata": {},
   "source": [
    "Intération de $n-1$ à $0$"
   ]
  },
  {
   "cell_type": "code",
   "execution_count": null,
   "metadata": {},
   "outputs": [],
   "source": [
    "n = 10\n",
    "print(range(n-1, -1, -1))"
   ]
  },
  {
   "cell_type": "code",
   "execution_count": null,
   "metadata": {},
   "outputs": [],
   "source": [
    "range(-10, 10)"
   ]
  },
  {
   "cell_type": "code",
   "execution_count": null,
   "metadata": {},
   "outputs": [],
   "source": [
    "# convertir une chaine de caractère en liste\n",
    "s = \"zabcda\"\n",
    "l2 = list(s)\n",
    "print(l2)"
   ]
  },
  {
   "cell_type": "code",
   "execution_count": null,
   "metadata": {},
   "outputs": [],
   "source": [
    "# tri (en anglais ce dit \"sort\")\n",
    "l2.sort()\n",
    "print(l2)\n",
    "l2.sort(reverse=True)\n",
    "print(l2)\n",
    "print(l2[::-1])"
   ]
  },
  {
   "cell_type": "markdown",
   "metadata": {},
   "source": [
    "**WARNING:** l2.sort() fait la modification **inplace** et ne renvoie rien, c'est-à-dire que l'on renvoie `None`"
   ]
  },
  {
   "cell_type": "code",
   "execution_count": null,
   "metadata": {},
   "outputs": [],
   "source": [
    "l2 = ['e', 'a', \"b\"]\n",
    "out = l2.sort()\n",
    "print(out)\n",
    "print(l2)"
   ]
  },
  {
   "cell_type": "markdown",
   "metadata": {},
   "source": [
    "Pour renvoyer une nouvelle liste triée:"
   ]
  },
  {
   "cell_type": "code",
   "execution_count": null,
   "metadata": {},
   "outputs": [],
   "source": [
    "out = sorted(l2)\n",
    "print(out)\n",
    "out2 = sorted(l2, reverse=True)\n",
    "print(out2)"
   ]
  },
  {
   "cell_type": "markdown",
   "metadata": {},
   "source": [
    "#### Ajout, insertion, modifier, et enlever des éléments d'une liste:"
   ]
  },
  {
   "cell_type": "code",
   "execution_count": null,
   "metadata": {},
   "outputs": [],
   "source": [
    "# Création d'une liste vide\n",
    "l = []  # ou encore: l = list()\n",
    "\n",
    "# Ajout d'éléments par la droite avec `append`\n",
    "m = l.append(\"A\")\n",
    "l.append(\"d\")\n",
    "l.append(\"d\")\n",
    "\n",
    "print(m)\n",
    "print(l)"
   ]
  },
  {
   "cell_type": "markdown",
   "metadata": {},
   "source": [
    "Concatenation de listes avec l'opérateur \"+\" (performance?)"
   ]
  },
  {
   "cell_type": "code",
   "execution_count": null,
   "metadata": {},
   "outputs": [],
   "source": [
    "lll = [1, 2, 3]\n",
    "mmm = [4, 5, 6]\n",
    "print (lll + mmm)  "
   ]
  },
  {
   "cell_type": "markdown",
   "metadata": {},
   "source": [
    "**Attention:** différent de `lll.append(mmm)`"
   ]
  },
  {
   "cell_type": "code",
   "execution_count": null,
   "metadata": {},
   "outputs": [],
   "source": [
    "lll.append(mmm)\n",
    "print(lll)"
   ]
  },
  {
   "cell_type": "code",
   "execution_count": null,
   "metadata": {},
   "outputs": [],
   "source": [
    "print(mmm * 3)"
   ]
  },
  {
   "cell_type": "markdown",
   "metadata": {},
   "source": [
    "On peut modifier une liste par assignation:"
   ]
  },
  {
   "cell_type": "code",
   "execution_count": null,
   "metadata": {},
   "outputs": [],
   "source": [
    "l[1] = \"p\"\n",
    "l[2] = \"p\"\n",
    "print(l)"
   ]
  },
  {
   "cell_type": "code",
   "execution_count": null,
   "metadata": {},
   "outputs": [],
   "source": [
    "l[1:3] = [\"d\", \"d\"]\n",
    "print(l)"
   ]
  },
  {
   "cell_type": "markdown",
   "metadata": {},
   "source": [
    "Insertion à un index donné avec `insert`"
   ]
  },
  {
   "cell_type": "code",
   "execution_count": null,
   "metadata": {},
   "outputs": [],
   "source": [
    "l.insert(0, \"i\")\n",
    "l.insert(1, \"n\")\n",
    "l.insert(2, \"s\")\n",
    "l.insert(3, \"e\")\n",
    "l.insert(4, \"r\")\n",
    "l.insert(5, \"t\")\n",
    "\n",
    "print(l)"
   ]
  },
  {
   "cell_type": "markdown",
   "metadata": {},
   "source": [
    "Suppression d'un élément avec `remove`"
   ]
  },
  {
   "cell_type": "code",
   "execution_count": null,
   "metadata": {},
   "outputs": [],
   "source": [
    "l.remove(\"A\")\n",
    "print(l)"
   ]
  },
  {
   "cell_type": "code",
   "execution_count": null,
   "metadata": {},
   "outputs": [],
   "source": [
    "ll = [1, 2, 3, 2]\n",
    "print(ll)\n",
    "ll.remove(2)\n",
    "print(ll)"
   ]
  },
  {
   "cell_type": "code",
   "execution_count": null,
   "metadata": {},
   "outputs": [],
   "source": [
    "print(2 in ll)\n",
    "print(5 in ll)\n",
    "\n",
    "print(l.index('r'))\n",
    "print(l.index('t'))"
   ]
  },
  {
   "cell_type": "markdown",
   "metadata": {},
   "source": [
    "Suppression d'un élément à une position donnée avec `del`:"
   ]
  },
  {
   "cell_type": "code",
   "execution_count": null,
   "metadata": {},
   "outputs": [],
   "source": [
    "del l[7]\n",
    "del l[6]\n",
    "print(l)"
   ]
  },
  {
   "cell_type": "markdown",
   "metadata": {},
   "source": [
    "### Map and zip"
   ]
  },
  {
   "cell_type": "code",
   "execution_count": null,
   "metadata": {},
   "outputs": [],
   "source": [
    "name = [ \"Manjeet\", \"Nikhil\", \"Shambhavi\", \"Astha\" ] \n",
    "roll_no = [ 4, 1, 3, 2 ] \n",
    "marks = [ 40, 50, 60, 70 ] \n",
    "  \n",
    "# using zip() to map values \n",
    "mapped = zip(name, roll_no, marks) # return iterable\n",
    "mapped_disp = list(mapped)\n",
    "print(mapped_disp)"
   ]
  },
  {
   "cell_type": "code",
   "execution_count": null,
   "metadata": {},
   "outputs": [],
   "source": [
    "# converting values to print as list \n",
    "mapped = list(zip(name, roll_no, marks))\n",
    "  \n",
    "# printing resultant values  \n",
    "print (\"The zipped result is : \",end=\"\") \n",
    "print (mapped) \n",
    "  \n",
    "print(\"\\n\") \n",
    "  \n",
    "# unzipping values \n",
    "namz, roll_noz, marksz = zip(*mapped) \n",
    "  \n",
    "print (\"The unzipped result: \\n\",end=\"\") \n",
    "# printing initial lists \n",
    "print (\"The name list is : \",end=\"\") \n",
    "print (namz) \n",
    "  \n",
    "print (\"The roll_no list is : \",end=\"\") \n",
    "print (roll_noz) \n",
    "  \n",
    "print (\"The marks list is : \",end=\"\") \n",
    "print (marksz) "
   ]
  },
  {
   "cell_type": "markdown",
   "metadata": {},
   "source": [
    "`help(list)` pour en savoir plus."
   ]
  },
  {
   "cell_type": "code",
   "execution_count": null,
   "metadata": {},
   "outputs": [],
   "source": [
    "help(list)"
   ]
  },
  {
   "cell_type": "markdown",
   "metadata": {},
   "source": [
    "### Tuples\n",
    "\n",
    " * Les *tuples* (n-uplets) ressemblent aux listes mais ils sont *immuables* : ils ne peuvent plus être modifiés une fois créés.\n",
    " \n",
    " * On les crée avec la syntaxe `(..., ..., ...)` ou simplement `..., ...`:"
   ]
  },
  {
   "cell_type": "code",
   "execution_count": null,
   "metadata": {},
   "outputs": [],
   "source": [
    "point = (10, 20)\n",
    "print(point, type(point))"
   ]
  },
  {
   "cell_type": "code",
   "execution_count": null,
   "metadata": {},
   "outputs": [],
   "source": [
    "point[0]"
   ]
  },
  {
   "cell_type": "markdown",
   "metadata": {},
   "source": [
    "Un *tuple* peut être dépilé par assignation à une liste de variables séparées par des virgules :"
   ]
  },
  {
   "cell_type": "code",
   "execution_count": null,
   "metadata": {},
   "outputs": [],
   "source": [
    "x, y = point\n",
    "\n",
    "print(\"Coordonnée x : \", x)\n",
    "print(\"Coordonnée y : \", y)"
   ]
  },
  {
   "cell_type": "markdown",
   "metadata": {},
   "source": [
    "On ne peut pas exécuter la commande suivante sans obtenir un message d'erreur:"
   ]
  },
  {
   "cell_type": "code",
   "execution_count": null,
   "metadata": {},
   "outputs": [],
   "source": [
    "point[0] = 20"
   ]
  },
  {
   "cell_type": "markdown",
   "metadata": {},
   "source": [
    "### Dictionnaires\n",
    "\n",
    "Ils servent à stocker des données de la forme *clé-valeur*.\n",
    "\n",
    "La syntaxe pour les dictionnaires est `{key1 : value1, ...}`:"
   ]
  },
  {
   "cell_type": "code",
   "execution_count": null,
   "metadata": {},
   "outputs": [],
   "source": [
    "params = {\"parameter1\": 1.0,\n",
    "          \"parameter2\": 2.0,\n",
    "          \"parameter3\": 3.0}\n",
    "\n",
    "# Alternatively:\n",
    "\n",
    "params = dict(parameter1=1.0, parameter2=2.0, parameter3=3.0)\n",
    "\n",
    "print(type(params))\n",
    "print(params)"
   ]
  },
  {
   "cell_type": "code",
   "execution_count": null,
   "metadata": {},
   "outputs": [],
   "source": [
    "print(\"p1 =\", params[\"parameter1\"])\n",
    "print(\"p2 =\", params[\"parameter2\"])\n",
    "print(\"p3 =\", params[\"parameter3\"])"
   ]
  },
  {
   "cell_type": "code",
   "execution_count": null,
   "metadata": {},
   "outputs": [],
   "source": [
    "# substitution de valeur\n",
    "params[\"parameter1\"] = \"A\"\n",
    "params[\"parameter2\"] = \"B\"\n",
    "\n",
    "# ajout d'une entrée\n",
    "params[\"parameter4\"] = \"D\"\n",
    "\n",
    "print(\"p1 =\", params[\"parameter1\"])\n",
    "print(\"p2 =\", params[\"parameter2\"])\n",
    "print(\"p3 =\", params[\"parameter3\"])\n",
    "print(\"p4 =\", params[\"parameter4\"])"
   ]
  },
  {
   "cell_type": "markdown",
   "metadata": {},
   "source": [
    "Suppression d'une clé:"
   ]
  },
  {
   "cell_type": "code",
   "execution_count": null,
   "metadata": {},
   "outputs": [],
   "source": [
    "del params[\"parameter4\"]\n",
    "print(params)"
   ]
  },
  {
   "cell_type": "markdown",
   "metadata": {},
   "source": [
    "Test de présence d'une clé"
   ]
  },
  {
   "cell_type": "code",
   "execution_count": null,
   "metadata": {},
   "outputs": [],
   "source": [
    "\"parameter1\" in params"
   ]
  },
  {
   "cell_type": "code",
   "execution_count": null,
   "metadata": {},
   "outputs": [],
   "source": [
    "\"parameter6\" in params"
   ]
  },
  {
   "cell_type": "code",
   "execution_count": null,
   "metadata": {},
   "outputs": [],
   "source": [
    "params[\"parameter6\"]"
   ]
  },
  {
   "cell_type": "markdown",
   "metadata": {},
   "source": [
    "**Remarque:** il est bon de s'habituer aux messages d'erreurs (ici le message est clair et montre que la clef n'existe pas)"
   ]
  },
  {
   "cell_type": "markdown",
   "metadata": {},
   "source": [
    "## Conditions, branchements et boucles"
   ]
  },
  {
   "cell_type": "markdown",
   "metadata": {},
   "source": [
    "### Branchements: if, elif, else\n",
    "(noter le symbole \":\" à la fin de la ligne)"
   ]
  },
  {
   "cell_type": "code",
   "execution_count": null,
   "metadata": {},
   "outputs": [],
   "source": [
    "statement1 = False\n",
    "statement2 = False\n",
    "# statement2 = True\n",
    "\n",
    "\n",
    "if statement1:\n",
    "    print(\"statement1 is True\")\n",
    "elif statement2:\n",
    "    print(\"statement2 is True\")\n",
    "else:\n",
    "    print(\"statement1 and statement2 are False\")"
   ]
  },
  {
   "cell_type": "markdown",
   "metadata": {},
   "source": [
    "En Python **l'indentation est obligatoire** car elle influence l'exécution du code\n",
    "\n",
    "**Examples:**"
   ]
  },
  {
   "cell_type": "code",
   "execution_count": null,
   "metadata": {},
   "outputs": [],
   "source": [
    "statement1 = statement2 = True\n",
    "\n",
    "if statement1:\n",
    "    if statement2:\n",
    "        print(\"both statement1 and statement2 are True\")"
   ]
  },
  {
   "cell_type": "code",
   "execution_count": null,
   "metadata": {},
   "outputs": [],
   "source": [
    "# Mauvaise indentation!\n",
    "if statement1:\n",
    "    if statement2:\n",
    "    print \"both statement1 and statement2 are True\""
   ]
  },
  {
   "cell_type": "code",
   "execution_count": null,
   "metadata": {},
   "outputs": [],
   "source": [
    "statement1 = True \n",
    "\n",
    "if statement1:\n",
    "    print(\"printed if statement1 is True\")\n",
    "    print(\"still inside the if block\")"
   ]
  },
  {
   "cell_type": "code",
   "execution_count": null,
   "metadata": {},
   "outputs": [],
   "source": [
    "statement1 = False\n",
    "\n",
    "if statement1:\n",
    "    print(\"printed if statement1 is True\")\n",
    "print(\"still inside the if block\")"
   ]
  },
  {
   "cell_type": "markdown",
   "metadata": {},
   "source": [
    "## Boucles\n",
    "\n",
    "Boucles **`for`**:\n",
    "\n",
    "(noter le symbole \":\" à la fin de la ligne)"
   ]
  },
  {
   "cell_type": "code",
   "execution_count": null,
   "metadata": {},
   "outputs": [],
   "source": [
    "for x in [1, 2, 3]:\n",
    "    print(x)"
   ]
  },
  {
   "cell_type": "markdown",
   "metadata": {},
   "source": [
    "La boucle `for` itère sur les éléments de la list fournie. Par exemple:"
   ]
  },
  {
   "cell_type": "code",
   "execution_count": null,
   "metadata": {},
   "outputs": [],
   "source": [
    "for x in range(4): # par défault range commence à 0 et permet de créer le tutple (0,1,2,...,n-1)\n",
    "    print(x)"
   ]
  },
  {
   "cell_type": "markdown",
   "metadata": {},
   "source": [
    "Attention `range(4)` n'inclut pas 4 !"
   ]
  },
  {
   "cell_type": "code",
   "execution_count": null,
   "metadata": {},
   "outputs": [],
   "source": [
    "for x in range(-3,3):\n",
    "    print(x)"
   ]
  },
  {
   "cell_type": "code",
   "execution_count": null,
   "metadata": {},
   "outputs": [],
   "source": [
    "for word in [\"calcul\", \"scientifique\", \"en\", \"python\"]:\n",
    "    print(word)"
   ]
  },
  {
   "cell_type": "code",
   "execution_count": null,
   "metadata": {},
   "outputs": [],
   "source": [
    "for letter in \"calcul\":\n",
    "    print(letter)"
   ]
  },
  {
   "cell_type": "code",
   "execution_count": null,
   "metadata": {},
   "outputs": [],
   "source": []
  },
  {
   "cell_type": "markdown",
   "metadata": {},
   "source": [
    "Pour itérer sur un dictionnaire::"
   ]
  },
  {
   "cell_type": "code",
   "execution_count": null,
   "metadata": {},
   "outputs": [],
   "source": [
    "print(params)\n",
    "for key, value in params.items():\n",
    "    print(key, \" = \", value)"
   ]
  },
  {
   "cell_type": "code",
   "execution_count": null,
   "metadata": {},
   "outputs": [],
   "source": [
    "params.items()"
   ]
  },
  {
   "cell_type": "code",
   "execution_count": null,
   "metadata": {},
   "outputs": [],
   "source": [
    "for key in params:\n",
    "    print(key)"
   ]
  },
  {
   "cell_type": "code",
   "execution_count": null,
   "metadata": {},
   "outputs": [],
   "source": [
    "for key in params:\n",
    "    print(params[key])"
   ]
  },
  {
   "cell_type": "code",
   "execution_count": null,
   "metadata": {},
   "outputs": [],
   "source": [
    "# initializing list of players. \n",
    "players = [ \"Sachin\", \"Sehwag\", \"Gambhir\", \"Dravid\", \"Raina\" ] \n",
    "  \n",
    "# initializing their scores \n",
    "scores = [100, 15, 17, 28, 43 ] \n",
    "  \n",
    "# printing players and scores. \n",
    "for pl, sc in zip(players, scores): \n",
    "    print (\"Player :  %s     Score : %d\" %(pl, sc))"
   ]
  },
  {
   "cell_type": "markdown",
   "metadata": {},
   "source": [
    "Il est souvent utile d'accéder à la fois à la **valeur** et à l'**index** de l'élément.\n",
    "Il faut alors utiliser `enumerate`:"
   ]
  },
  {
   "cell_type": "code",
   "execution_count": null,
   "metadata": {},
   "outputs": [],
   "source": [
    "for idx, x in enumerate(l):\n",
    "    print(idx, x)"
   ]
  },
  {
   "cell_type": "markdown",
   "metadata": {},
   "source": [
    "### <font color='red'>EXERCISE : counting letters</font>\n",
    "Compter le nombre d'occurences de chaque charactère dans la chaîne de caractères \"HelLo WorLd!!\".   \n",
    "On renverra un dictionaire qui à la lettre associe son nombre d'occurences."
   ]
  },
  {
   "cell_type": "code",
   "execution_count": null,
   "metadata": {},
   "outputs": [],
   "source": [
    "s = \"HelLo WorLd!!\"   # on pourra utiliser la fonction lower() pour obtenir les lettres en miniscules\n",
    "\n",
    "# XXX\n",
    "# solution c = dict(h=1, e=1, l=3, o=2, w=1, r=1, d=1, !=2) , à permutation prête"
   ]
  },
  {
   "cell_type": "markdown",
   "metadata": {},
   "source": [
    "### <font color='red'>EXERCISE : Caesar cipher </font>\n",
    "\n",
    "Proposer une manipulation qui permet de faire le codage et le décodage avec le code fournit dessous, en suivant la méthode de César, ou code par inversion de lettres (aussi appelé [code de César](https://fr.wikipedia.org/wiki/Chiffrement_par_d%C3%A9calage))"
   ]
  },
  {
   "cell_type": "code",
   "execution_count": null,
   "metadata": {},
   "outputs": [],
   "source": []
  },
  {
   "cell_type": "code",
   "execution_count": null,
   "metadata": {},
   "outputs": [],
   "source": [
    "code = {'e': 'a', 'l': 'm', 'o': 'e'}\n",
    "# REM: on pourra utiliser par exemple le symbole +=, qui permet l'increment sur place...\n",
    "s = 'Hello world!'\n",
    "s_code = ''\n",
    "\n",
    "# XXX\n",
    "# solution: s_code = 'Hamme wermd!'\n",
    "\n",
    "my_inverted_code = {value: key for key, value in code.items()}\n",
    "s_decoded = ''\n",
    "\n",
    "# XXX\n",
    "# solution: s_decoded = 'Hello world!'"
   ]
  },
  {
   "cell_type": "markdown",
   "metadata": {},
   "source": [
    "**List comprehension:**\n",
    "\n",
    "`for` loops:"
   ]
  },
  {
   "cell_type": "code",
   "execution_count": null,
   "metadata": {},
   "outputs": [],
   "source": [
    "ll = [x ** 2 for x in range(0,5)]\n",
    "\n",
    "print(ll)\n",
    "\n",
    "# Une version plus courte de :\n",
    "ll = list()\n",
    "for x in range(0, 5):\n",
    "    ll.append(x ** 2)\n",
    "\n",
    "print(ll)\n",
    "\n",
    "# pour les gens qui font du caml, ou d'autre langages fonctionnels (en anglais map = function)\n",
    "print(map(lambda x: x ** 2, range(5)))"
   ]
  },
  {
   "cell_type": "markdown",
   "metadata": {},
   "source": [
    "Boucles `while`:"
   ]
  },
  {
   "cell_type": "code",
   "execution_count": null,
   "metadata": {},
   "outputs": [],
   "source": [
    "i = 0\n",
    "\n",
    "while i < 5:\n",
    "    print(i)\n",
    "    i = i + 1\n",
    "\n",
    "print(\"OK\")"
   ]
  },
  {
   "cell_type": "markdown",
   "metadata": {},
   "source": [
    "### <font color='red'>EXERCISE: An old $\\pi$ approximation</font>\n",
    "    \n",
    "Compute an approximation of $\\pi$ thanks to the Wallis formula (hing: use a `for` loop)\n",
    "\\begin{align}\n",
    "    \\text{Formule de Wallis:}\\quad \\pi&= 2 \\cdot\\prod_{n=1}^{\\infty }\\left({\\frac{4 n^{2}}{4 n^{2} - 1}}\\right)\n",
    "\\end{align}\n",
    "\n",
    "More details here:\n",
    "(fr) https://fr.wikipedia.org/wiki/Produit_de_Wallis\n",
    "(en) https://en.wikipedia.org/wiki/Wallis_product"
   ]
  },
  {
   "cell_type": "code",
   "execution_count": null,
   "metadata": {},
   "outputs": [],
   "source": [
    "# XXX"
   ]
  },
  {
   "cell_type": "markdown",
   "metadata": {},
   "source": [
    "## Functions\n",
    "\n",
    "Une fonction en Python est définie avec le mot clé `def`, suivi par le nom de la fonction, la signature entre parenthèses `()`, et un `:` en fin de ligne\n",
    "\n",
    "**Exemples:**"
   ]
  },
  {
   "cell_type": "code",
   "execution_count": null,
   "metadata": {},
   "outputs": [],
   "source": [
    "def func0():\n",
    "    print(\"test\")"
   ]
  },
  {
   "cell_type": "code",
   "execution_count": null,
   "metadata": {},
   "outputs": [],
   "source": [
    "func0()"
   ]
  },
  {
   "cell_type": "markdown",
   "metadata": {},
   "source": [
    "Ajout d'une documentation (docstring):"
   ]
  },
  {
   "cell_type": "code",
   "execution_count": null,
   "metadata": {},
   "outputs": [],
   "source": [
    "def func1(s):\n",
    "    \"\"\"Affichage d'une chaine et de sa longueur.\"\"\"\n",
    "    print(s, \"est de longueur\", len(s))"
   ]
  },
  {
   "cell_type": "code",
   "execution_count": null,
   "metadata": {},
   "outputs": [],
   "source": [
    "help(func1)"
   ]
  },
  {
   "cell_type": "code",
   "execution_count": null,
   "metadata": {},
   "outputs": [],
   "source": [
    "print(func1(\"test\"))\n",
    "print(func1([1, 2, 3]))"
   ]
  },
  {
   "cell_type": "markdown",
   "metadata": {},
   "source": [
    "Il est bien sûr généralement utile de **retourner** une valeur, on utilise alors `return`:"
   ]
  },
  {
   "cell_type": "code",
   "execution_count": null,
   "metadata": {},
   "outputs": [],
   "source": [
    "def square(x):\n",
    "    \"\"\" Retourne le carré de x.\"\"\"\n",
    "    return x * x"
   ]
  },
  {
   "cell_type": "code",
   "execution_count": null,
   "metadata": {},
   "outputs": [],
   "source": [
    "print(square(4))"
   ]
  },
  {
   "cell_type": "markdown",
   "metadata": {},
   "source": [
    "Retourner plusieurs valeurs:"
   ]
  },
  {
   "cell_type": "code",
   "execution_count": null,
   "metadata": {},
   "outputs": [],
   "source": [
    "def powers(x):\n",
    "    \"\"\"Retourne les premières puissances de x.\"\"\"\n",
    "    return x * x, x * x * x, x * x * x * x"
   ]
  },
  {
   "cell_type": "code",
   "execution_count": null,
   "metadata": {},
   "outputs": [],
   "source": [
    "print(powers(3))\n",
    "x2, x3, x4 = powers(3)\n",
    "print(x2, x3)\n",
    "print(type(powers(3)))\n",
    "out = powers(3)\n",
    "print(len(out))\n",
    "print(out[1])\n",
    "print(out[2])"
   ]
  },
  {
   "cell_type": "code",
   "execution_count": null,
   "metadata": {},
   "outputs": [],
   "source": [
    "t = (3,)\n",
    "print(t, type(t))"
   ]
  },
  {
   "cell_type": "code",
   "execution_count": null,
   "metadata": {},
   "outputs": [],
   "source": [
    "x2, x3, x4 = powers(3)\n",
    "print x3"
   ]
  },
  {
   "cell_type": "markdown",
   "metadata": {},
   "source": [
    "### Arguments par défault\n",
    "\n",
    "Il est possible de fournir des valeurs par défaut aux paramètres:"
   ]
  },
  {
   "cell_type": "code",
   "execution_count": null,
   "metadata": {},
   "outputs": [],
   "source": [
    "def myfunc(x, p=2, verbose=False):\n",
    "    if verbose:\n",
    "        print(\"evalue myfunc avec x =\", x, \"et l'exposant p =\", p)\n",
    "    return x**p"
   ]
  },
  {
   "cell_type": "markdown",
   "metadata": {},
   "source": [
    "Le paramètre `verbose` peut être omis:"
   ]
  },
  {
   "cell_type": "code",
   "execution_count": null,
   "metadata": {},
   "outputs": [],
   "source": [
    "myfunc(5)"
   ]
  },
  {
   "cell_type": "code",
   "execution_count": null,
   "metadata": {},
   "outputs": [],
   "source": [
    "myfunc(5, 3)"
   ]
  },
  {
   "cell_type": "code",
   "execution_count": null,
   "metadata": {},
   "outputs": [],
   "source": [
    "myfunc(5, verbose=True)"
   ]
  },
  {
   "cell_type": "markdown",
   "metadata": {},
   "source": [
    "On peut expliciter les noms de variables et alors l'ordre n'importe plus:"
   ]
  },
  {
   "cell_type": "code",
   "execution_count": null,
   "metadata": {},
   "outputs": [],
   "source": [
    "myfunc(p=3, verbose=True, x=7)"
   ]
  },
  {
   "cell_type": "markdown",
   "metadata": {},
   "source": [
    "### <font color='red'>EXERCISE: *quicksort*</font>\n",
    "\n",
    "La [page wikipedia](http://en.wikipedia.org/wiki/Quicksort)\n",
    " décrivant l’algorithme de tri *quicksort* donne le pseudo-code suivant:\n",
    "\n",
    "    function quicksort('array')\n",
    "       if length('array') <= 1\n",
    "            return 'array'\n",
    "       select and remove a pivot value 'pivot' from 'array'\n",
    "       create empty lists 'less' and 'greater'\n",
    "       for each 'x' in 'array'\n",
    "           if 'x' <= 'pivot' then append 'x' to 'less'\n",
    "           else append 'x' to 'greater'\n",
    "       return concatenate(quicksort('less'), 'pivot', quicksort('greater'))\n",
    "\n",
    "Transformer ce pseudo-code en code valide Python.\n",
    "\n",
    "**Des indices**:\n",
    "\n",
    " * la longueur d’une liste est donnée par  `len(l)`\n",
    " * deux listes peuvent être concaténées avec `l1 + l2`\n",
    " * `l.pop()` retire le dernier élément d’une liste\n",
    "\n",
    "**Attention**: une liste est mutable...\n",
    "\n",
    "Il vous suffit de compléter cette ébauche:"
   ]
  },
  {
   "cell_type": "code",
   "execution_count": null,
   "metadata": {},
   "outputs": [],
   "source": [
    "def quicksort(ll):\n",
    "    #XXX\n",
    "\n",
    "quicksort([-2, 3, 5, 1, 3])"
   ]
  },
  {
   "cell_type": "markdown",
   "metadata": {},
   "source": [
    "### Variable number of arguments\n",
    "\n",
    "The single star `*` unpacks the sequence/collection into positional arguments, so you can do this:"
   ]
  },
  {
   "cell_type": "code",
   "execution_count": null,
   "metadata": {},
   "outputs": [],
   "source": [
    "def varargin(*args):\n",
    "    for i in args: print(i, end=\" \")\n",
    "    print(\"\\n\")\n",
    "\n",
    "varargin(3,4,5)\n",
    "\n",
    "def multiple_argout(x, y):\n",
    "    return((y, x))\n",
    "\n",
    "print(multiple_argout(1, 2))"
   ]
  },
  {
   "cell_type": "code",
   "execution_count": null,
   "metadata": {},
   "outputs": [],
   "source": [
    "varargin(multiple_argout(1, 2)) # print a single tuple"
   ]
  },
  {
   "cell_type": "code",
   "execution_count": null,
   "metadata": {},
   "outputs": [],
   "source": [
    "varargin(*multiple_argout(1, 2)) # print each element separately"
   ]
  },
  {
   "cell_type": "markdown",
   "metadata": {},
   "source": [
    "The double star `**` does the same, only using a dictionary and thus named arguments:"
   ]
  },
  {
   "cell_type": "code",
   "execution_count": null,
   "metadata": {},
   "outputs": [],
   "source": [
    "values = { 'x': 1, 'y': 2 }\n",
    "print(multiple_argout(**values))\n",
    "varargin(*multiple_argout(**values))"
   ]
  },
  {
   "cell_type": "code",
   "execution_count": null,
   "metadata": {},
   "outputs": [],
   "source": [
    "def varargin_kwargs(**kwargs):\n",
    "    for key, value in kwargs.items():\n",
    "        print(key, \" = \", value)\n",
    "    print(\"\\n\")\n",
    "    \n",
    "varargin_kwargs(**values)\n",
    "varargin_kwargs(values) # error"
   ]
  },
  {
   "cell_type": "markdown",
   "metadata": {},
   "source": [
    "More to read: https://stackoverflow.com/questions/2921847/what-does-the-star-operator-mean-in-a-function-call"
   ]
  },
  {
   "cell_type": "markdown",
   "metadata": {},
   "source": [
    "## Classes\n",
    "\n",
    " * Les *classes* sont les éléments centraux de la *programmation orientée objet*\n",
    "\n",
    " * Classe: structure qui sert à représenter un objet et l'ensemble des opérations qui peuvent êtres effectuées sur ce dernier.\n",
    "\n",
    "Dans Python une classe contient des *attributs* (variables) et des *méthodes* (fonctions). Elle est définie de manière analogue aux fonctions mais en utilisant le mot clé `class`. La définition d'une classe contient généralement un certain nombre de méthodes de classe (des fonctions dans la classe).\n",
    "\n",
    "* Le premier argument d'un méthode doit être `self`: argument obligatoire. Cet objet `self` est une auto-référence.\n",
    "* Certains noms de méthodes ont un sens particulier, par exemple : \n",
    "   * `__init__`: nom de la méthode invoquée à la création de l'objet\n",
    "   * `__str__` : méthode invoquée lorsque une représentation de la classe sous forme de chaîne de caractères est demandée, par exemple quand la classe est passée à `print`\n",
    "   * voir http://docs.python.org/3/reference/datamodel.html#special-method-names pour les autres noms spéciaux\n",
    "\n",
    "### Example\n",
    "  "
   ]
  },
  {
   "cell_type": "code",
   "execution_count": null,
   "metadata": {},
   "outputs": [],
   "source": [
    "class Point(object):\n",
    "    \"\"\"Classe pour représenter un point dans le plan.\"\"\"\n",
    "\n",
    "    def __init__(self, x, y):\n",
    "        \"\"\"Creation d'un nouveau point en position x, y.\"\"\"\n",
    "        self.x = x\n",
    "        self.y = y\n",
    "\n",
    "    def translate(self, dx, dy):\n",
    "        \"\"\"Translate le point de dx and dy.\"\"\"\n",
    "        self.x += dx\n",
    "        self.y += dy\n",
    "\n",
    "    def __str__(self):\n",
    "        return \"Point: [{0:1.3f}, {1:1.3f}]\".format(self.x, self.y)\n",
    "    \n",
    "    def __call__(self):\n",
    "        \"\"\"At call print itself\"\"\"\n",
    "        print(self.__str__())"
   ]
  },
  {
   "cell_type": "markdown",
   "metadata": {},
   "source": [
    "To create a new instance of the class `Point`:"
   ]
  },
  {
   "cell_type": "code",
   "execution_count": null,
   "metadata": {},
   "outputs": [],
   "source": [
    "p1 = Point(x=0, y=0)  # appel à __init__ ;\n",
    "print(p1.x)\n",
    "print(p1.y)\n",
    "print(\"{0}\".format(p1))  # appel à la méthode __str__\n",
    "p1()"
   ]
  },
  {
   "cell_type": "code",
   "execution_count": null,
   "metadata": {},
   "outputs": [],
   "source": [
    "p1.translate(dx=1, dy=1)\n",
    "print(p1.translate)\n",
    "print(p1)\n",
    "print(type(p1))"
   ]
  },
  {
   "cell_type": "markdown",
   "metadata": {},
   "source": [
    "To run a method of the object `p1` (which is an instance of `Point`) simply use the dot:"
   ]
  },
  {
   "cell_type": "code",
   "execution_count": null,
   "metadata": {},
   "outputs": [],
   "source": [
    "p2 = Point(1, 1)\n",
    "\n",
    "p1.translate(0.25, 1.5)\n",
    "\n",
    "print(p1)\n",
    "print(p2)"
   ]
  },
  {
   "cell_type": "markdown",
   "metadata": {},
   "source": [
    "### Remarks\n",
    "\n",
    " * A method of a class is able to modify the state of a particular instance. This does not alter the other instantiations of the class.\n",
    " * method that do not depend of a particular instantiation can be decorated with the @staticmethod keyword."
   ]
  },
  {
   "cell_type": "markdown",
   "metadata": {},
   "source": [
    "### <font color='red'>EXERCISE : Gaussians </font>\n",
    "\n",
    "Implement a class `Gaussian` with attributes `mean` and `std` with a method \n",
    "   - `__str__` returning a string with the expression of the density\n",
    "   - `__eq__`  testing the equality of two instances.\n",
    "   - `__add__` implementing the addition of independant Gaussian "
   ]
  },
  {
   "cell_type": "code",
   "execution_count": null,
   "metadata": {},
   "outputs": [],
   "source": [
    "class Gaussian:\n",
    "    #XXX\n",
    "\n",
    "q1 = Gaussian(0, 1)\n",
    "q2 = Gaussian(1, 2)\n",
    " \n",
    "print(q1)\n",
    "print(q2)\n",
    "print(q1 == q1)\n",
    "print(q1 == q2)\n",
    "print(q1 + q2)\n",
    "\n",
    "# should display\n",
    "# The density function is: exp(-(x - 0)^2 / (2*1^2)) / sqrt(2 * pi 1^2)\n",
    "# The density function is: exp(-(x - 1)^2 / (2*2^2)) / sqrt(2 * pi 2^2)\n",
    "# True\n",
    "# False\n",
    "# The density function is: exp(-(x - 1)^2 / (2*2.6457513110645907^2)) / sqrt(2 * pi 2.6457513110645907^2)\n",
    "\n"
   ]
  },
  {
   "cell_type": "markdown",
   "metadata": {},
   "source": [
    "## Exceptions\n",
    "\n",
    " * In Python errors are handled through `Exceptions`\n",
    " * An error throw an `Exception` interrupting the normal code execution\n",
    " * L'exécution peut éventuellement reprendre à l'intérieur d'un bloc de code `try` - `except`\n"
   ]
  },
  {
   "cell_type": "markdown",
   "metadata": {},
   "source": [
    "* A typical use case: stop the program when an error occurs:\n",
    "\n",
    "```python\n",
    "def my_function(arguments):\n",
    "\n",
    "    if not verify(arguments):\n",
    "        raise Expection(\"Invalid arguments\")\n",
    "\n",
    "    # keep continuing\n",
    "```"
   ]
  },
  {
   "cell_type": "markdown",
   "metadata": {},
   "source": [
    "One may use `try`, `except`, `finally` to prevent errors to stop the program:\n",
    "\n",
    "```python\n",
    "try:\n",
    "    # normal code 1 goes here\n",
    "except:\n",
    "    # code for error handling goes here\n",
    "    # this code 2 is not executed unless the code 1\n",
    "    # above generated an error\n",
    "finally:\n",
    "    # optional. This clause is executed no matter what,\n",
    "    # and is generally used to release external resources.\n",
    "```"
   ]
  },
  {
   "cell_type": "markdown",
   "metadata": {},
   "source": [
    "### Example"
   ]
  },
  {
   "cell_type": "code",
   "execution_count": null,
   "metadata": {},
   "outputs": [],
   "source": [
    "try:\n",
    "    print(\"test_var\")\n",
    "    e = 4 \n",
    "    print(test_var) # raise an error: the test_var variable is not defined\n",
    "except:\n",
    "    print(\"Caught an expection\")\n",
    "finally:\n",
    "    print(\"This code is executed every time\")\n",
    "\n",
    "print(\"The program keep continuing... it does not freeze!\")\n",
    "print('Beware! the variable ', 'e =', e, 'is still defined.')"
   ]
  },
  {
   "cell_type": "markdown",
   "metadata": {},
   "source": [
    "To obtain some informations on the error: it is possible to access the intance of the `Exception` class thrown by the program through the syntax:"
   ]
  },
  {
   "cell_type": "code",
   "execution_count": null,
   "metadata": {},
   "outputs": [],
   "source": [
    "try:\n",
    "    print(\"test\")\n",
    "    print(testtt)       # error: the variable testtt is not defined\n",
    "except Exception as e:\n",
    "    print(\"Caught an expection:\", e)"
   ]
  },
  {
   "cell_type": "markdown",
   "metadata": {},
   "source": [
    "### The `with` statement"
   ]
  },
  {
   "cell_type": "code",
   "execution_count": null,
   "metadata": {},
   "outputs": [],
   "source": [
    "fname = \"scripts/hello-world.py\"\n",
    "try:\n",
    "    # 1/0\n",
    "    file = open(fname)\n",
    "    data = file.read()\n",
    "    print(data)\n",
    "except FileNotFoundError:\n",
    "    print(\"File not found!\")\n",
    "except (RuntimeError, TypeError, NameError, ZeroDivisionError):\n",
    "    print(\"Specific Error message 2\")\n",
    "except:\n",
    "    print(\"Generic error message\")\n",
    "finally:\n",
    "    file.close()  # important to release the access to the file !"
   ]
  },
  {
   "cell_type": "code",
   "execution_count": null,
   "metadata": {},
   "outputs": [],
   "source": [
    "with open(fname) as file: # Use file to refer to the file object\n",
    "    data = file.read()\n",
    "    print(data)\n",
    "    # at the end of the code chunk, the file.__exit__() method is called (ie file.close() is done automatically)"
   ]
  },
  {
   "cell_type": "code",
   "execution_count": null,
   "metadata": {},
   "outputs": [],
   "source": [
    "try:\n",
    "    with open(\"scripts/hello-world2.py\") as file: # Use file to refer to the file object\n",
    "        data = file.read()\n",
    "        print(data)\n",
    "        # at the end of the code chunk, the file.__exit__() method is called (ie file.close() is done automatically)\n",
    "except:\n",
    "    print(\"Ooooooops, the file does not exists...\")  \n"
   ]
  },
  {
   "cell_type": "markdown",
   "metadata": {},
   "source": [
    "### <font color='red'>EXERCISE : Gaussians (again)</font>\n",
    "\n",
    "Update the constructor of the `Gaussian` class to check if the user has provided the right type of inputs (see also `assert` and `isinstance` routines). Print a custom explicit error message if it is not the case."
   ]
  },
  {
   "cell_type": "code",
   "execution_count": null,
   "metadata": {},
   "outputs": [],
   "source": [
    "class Gaussian:\n",
    "    #XXX"
   ]
  },
  {
   "cell_type": "markdown",
   "metadata": {},
   "source": [
    "## Scope"
   ]
  },
  {
   "cell_type": "code",
   "execution_count": null,
   "metadata": {},
   "outputs": [],
   "source": [
    "e = 0\n",
    "print(e)\n",
    "\n",
    "for i in range(1):\n",
    "    e = 1\n",
    "    \n",
    "print(e)\n",
    "\n",
    "\n",
    "def f():\n",
    "    e = 2\n",
    "\n",
    "\n",
    "print(e)"
   ]
  },
  {
   "cell_type": "markdown",
   "metadata": {},
   "source": [
    "## Manipuler des noms de fichiers sur le disque"
   ]
  },
  {
   "cell_type": "code",
   "execution_count": null,
   "metadata": {},
   "outputs": [],
   "source": [
    "import os\n",
    "# permet de fonctionner sur Linux / Windows /Mac\n",
    "print(os.path.join('~', 'work', 'src'))\n",
    "print(os.path.join(os.getcwd(), 'new_directory'))\n",
    "os.path.expanduser?\n",
    "print(os.path.expanduser(os.path.join('~', 'work', 'src')))"
   ]
  },
  {
   "cell_type": "markdown",
   "metadata": {},
   "source": [
    "### <font color='red'>EXERCISE : Create a bunch of files</font>\n",
    "\n",
    "Write a simple script that creates, in the sub-directory `scripts`, the following text files: `myDb_0.txt`, `myDb_001.txt`, `myDb_002.txt`, ..., `myDb_049.txt`. The `i`-th file should contains a single line with the `i` first digits of pi."
   ]
  },
  {
   "cell_type": "code",
   "execution_count": null,
   "metadata": {},
   "outputs": [],
   "source": [
    "import os\n",
    "import math\n",
    "\n",
    "# XXX"
   ]
  },
  {
   "cell_type": "markdown",
   "metadata": {},
   "source": [
    "## More links\n",
    "\n",
    "* http://www.python.org - Python official webpage\n",
    "* http://www.python.org/dev/peps/pep-0008 - Style and writing recommendation\n",
    "* http://www.greenteapress.com/thinkpython/ - A free book on python\n",
    "* [Python Essential Reference](http://www.amazon.com/Python-Essential-Reference-4th-Edition/dp/0672329786) - a good reference for general Python coding \n",
    "* [Python Data Science Handbook](https://jakevdp.github.io/PythonDataScienceHandbook/) - an excellent book for data science in Python"
   ]
  }
 ],
 "metadata": {
  "hide_input": false,
  "kernelspec": {
   "display_name": "Python 3",
   "language": "python",
   "name": "python3"
  },
  "language_info": {
   "codemirror_mode": {
    "name": "ipython",
    "version": 3
   },
   "file_extension": ".py",
   "mimetype": "text/x-python",
   "name": "python",
   "nbconvert_exporter": "python",
   "pygments_lexer": "ipython3",
   "version": "3.7.3"
  },
  "toc": {
   "base_numbering": 1,
   "nav_menu": {},
   "number_sections": false,
   "sideBar": true,
   "skip_h1_title": false,
   "title_cell": "Table of Contents",
   "title_sidebar": "Contents",
   "toc_cell": false,
   "toc_position": {
    "height": "calc(100% - 180px)",
    "left": "10px",
    "top": "150px",
    "width": "305px"
   },
   "toc_section_display": true,
   "toc_window_display": true
  }
 },
 "nbformat": 4,
 "nbformat_minor": 1
}
